{
 "cells": [
  {
   "cell_type": "markdown",
   "metadata": {},
   "source": [
    "# Import software libraries and load the dataset"
   ]
  },
  {
   "cell_type": "code",
   "execution_count": null,
   "metadata": {},
   "outputs": [],
   "source": [
    "# Import required libraries\n",
    "import sys                             # Read system parameters\n",
    "import os                              # Interact with the operating system\n",
    "import numpy as np                     # Work with multi-dimensional arrays and matrices\n",
    "import pandas as pd                    # Manipulate and analyze data\n",
    "import matplotlib                      # Create 2D charts\n",
    "import scipy as sp                     # Perform scientific computing and advanced mathematics\n",
    "import sklearn                         # Perform data mining and analysis\n",
    "import seaborn as sb                   # Perform data visualization\n",
    "\n",
    "# Summarize software libraries used\n",
    "print('Libraries used in this project:')\n",
    "print('- NumPy {}'.format(np.__version__))\n",
    "print('- Pandas {}'.format(pd.__version__))\n",
    "print('- Matplotlib {}'.format(matplotlib.__version__))\n",
    "print('- SciPy {}'.format(sp.__version__))\n",
    "print('- Scikit-learn {}'.format(sklearn.__version__))\n",
    "print('- Python {}\\n'.format(sys.version))\n",
    "\n",
    "# Read the raw dataset based on data from https://archive.ics.uci.edu/ml/datasets/breast+cancer\n",
    "print('------------------------------------')\n",
    "print('Loading the dataset.')\n",
    "PROJECT_ROOT_DIR = '.'\n",
    "DATA_PATH = os.path.join(PROJECT_ROOT_DIR, 'breast_cancer_data')\n",
    "print('Data files in this project:', os.listdir(DATA_PATH) )\n",
    "data_raw_file = os.path.join( DATA_PATH, 'breast-cancer.csv' )\n",
    "data_raw = pd.read_csv( data_raw_file )\n",
    "print('Loaded {} records from {}.\\n'.format(len(data_raw), data_raw_file))"
   ]
  },
  {
   "cell_type": "markdown",
   "metadata": {},
   "source": [
    "# Get acquainted with the data structure and preview the records"
   ]
  },
  {
   "cell_type": "code",
   "execution_count": null,
   "metadata": {},
   "outputs": [],
   "source": [
    "# Show the various features and their data types\n",
    "\n",
    "\n",
    "# View the first five records\n"
   ]
  },
  {
   "cell_type": "markdown",
   "metadata": {},
   "source": [
    "# Examine descriptive statistics"
   ]
  },
  {
   "cell_type": "code",
   "execution_count": null,
   "metadata": {
    "scrolled": false
   },
   "outputs": [],
   "source": [
    "# Show descriptive statistics\n",
    "\n"
   ]
  },
  {
   "cell_type": "markdown",
   "metadata": {},
   "source": [
    "# Use histograms to visualize the distribution of various features"
   ]
  },
  {
   "cell_type": "code",
   "execution_count": null,
   "metadata": {},
   "outputs": [],
   "source": [
    "# Show histograms for each attribute in the dataset\n",
    "\n"
   ]
  },
  {
   "cell_type": "markdown",
   "metadata": {},
   "source": [
    "# Split the data into training and validation sets and labels"
   ]
  },
  {
   "cell_type": "code",
   "execution_count": null,
   "metadata": {},
   "outputs": [],
   "source": [
    "# Import a function to split the dataset\n",
    "\n",
    "\n",
    "# Specify the column to be included in the label set ('recurrence')\n",
    "\n",
    "\n",
    "# Specify columns to be included in the training and validation sets (all other columns)\n",
    "\n",
    "\n",
    "# Split the training set, validation set, and labels for both\n",
    "\n",
    "\n",
    "# Compare the number of rows and columns in the original data to the training and validation sets\n"
   ]
  },
  {
   "cell_type": "code",
   "execution_count": null,
   "metadata": {},
   "outputs": [],
   "source": [
    "# Preview the training data\n",
    "\n"
   ]
  },
  {
   "cell_type": "code",
   "execution_count": null,
   "metadata": {},
   "outputs": [],
   "source": [
    "# Preview the labels\n",
    "\n"
   ]
  },
  {
   "cell_type": "markdown",
   "metadata": {},
   "source": [
    "# Build the model"
   ]
  },
  {
   "cell_type": "code",
   "execution_count": null,
   "metadata": {},
   "outputs": [],
   "source": [
    "# Create a logistic regression model, and use the validation data and labels to score it.\n",
    "\n"
   ]
  },
  {
   "cell_type": "markdown",
   "metadata": {},
   "source": [
    "# Test the model"
   ]
  },
  {
   "cell_type": "code",
   "execution_count": null,
   "metadata": {},
   "outputs": [],
   "source": [
    "# Add columns to a copy of the test data to compare predictions against actual values.\n",
    "\n",
    "\n",
    "# View examples of the predictions compared to actual recurrence.\n"
   ]
  }
 ],
 "metadata": {
  "kernelspec": {
   "display_name": "Python 3",
   "language": "python",
   "name": "python3"
  },
  "language_info": {
   "codemirror_mode": {
    "name": "ipython",
    "version": 3
   },
   "file_extension": ".py",
   "mimetype": "text/x-python",
   "name": "python",
   "nbconvert_exporter": "python",
   "pygments_lexer": "ipython3",
   "version": "3.7.3"
  },
  "nav_menu": {
   "height": "279px",
   "width": "309px"
  },
  "toc": {
   "nav_menu": {},
   "number_sections": true,
   "sideBar": true,
   "skip_h1_title": false,
   "toc_cell": false,
   "toc_position": {},
   "toc_section_display": "block",
   "toc_window_display": false
  }
 },
 "nbformat": 4,
 "nbformat_minor": 1
}
