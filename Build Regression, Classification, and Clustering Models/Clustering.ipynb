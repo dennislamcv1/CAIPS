{
 "cells": [
  {
   "cell_type": "markdown",
   "metadata": {},
   "source": [
    "# Import software libraries and load the dataset #"
   ]
  },
  {
   "cell_type": "code",
   "execution_count": null,
   "metadata": {},
   "outputs": [],
   "source": [
    "import sys                                             # Read system parameters.\n",
    "import os                                              # Interact with the operating system.\n",
    "import numpy as np                                     # Work with multi-dimensional arrays and matrices.\n",
    "import pandas as pd                                    # Manipulate and analyze data.\n",
    "import matplotlib as mpl                               # Create 2D charts.\n",
    "import matplotlib.pyplot as plt\n",
    "import matplotlib.cm as cm\n",
    "import yellowbrick                                     # Visualize elbow and silhouette plots.\n",
    "import sklearn                                         # Perform data mining and analysis.\n",
    "\n",
    "# Summarize software libraries used.\n",
    "print('Libraries used in this project:')\n",
    "print('- Python {}'.format(sys.version))\n",
    "print('- NumPy {}'.format(np.__version__))\n",
    "print('- pandas {}'.format(pd.__version__))\n",
    "print('- Matplotlib {}'.format(mpl.__version__))\n",
    "print('- Yellowbrick {}'.format(yellowbrick.__version__))\n",
    "print('- scikit-learn {}\\n'.format(sklearn.__version__))\n",
    "\n",
    "# Load the dataset.\n",
    "PROJECT_ROOT_DIR = \".\"\n",
    "DATA_PATH = os.path.join(PROJECT_ROOT_DIR, \"wholesale_customers_data\")\n",
    "print('Data files in this project:', os.listdir(DATA_PATH))\n",
    "data_raw_file = os.path.join(DATA_PATH, 'wholesale_customers_data.csv')\n",
    "data_raw = pd.read_csv(data_raw_file)\n",
    "print('Loaded {} records from {}.'.format(len(data_raw), data_raw_file))"
   ]
  },
  {
   "cell_type": "markdown",
   "metadata": {},
   "source": [
    "# Get acquainted with the dataset"
   ]
  },
  {
   "cell_type": "code",
   "execution_count": null,
   "metadata": {},
   "outputs": [],
   "source": [
    "# View data types and see if there are missing entries.\n",
    "\n",
    "# View first 10 records."
   ]
  },
  {
   "cell_type": "markdown",
   "metadata": {},
   "source": [
    "# Examine the distribution of various features"
   ]
  },
  {
   "cell_type": "code",
   "execution_count": null,
   "metadata": {},
   "outputs": [],
   "source": [
    "# Use Matplotlib to plot distribution histograms for all features."
   ]
  },
  {
   "cell_type": "markdown",
   "metadata": {},
   "source": [
    "# Examine a general summary of statistics"
   ]
  },
  {
   "cell_type": "code",
   "execution_count": null,
   "metadata": {},
   "outputs": [],
   "source": [
    "# View summary statistics (mean, standard deviation, min, max, etc.) for each feature."
   ]
  },
  {
   "cell_type": "markdown",
   "metadata": {},
   "source": [
    "# Use a *k*-means model to label every row in the dataset"
   ]
  },
  {
   "cell_type": "code",
   "execution_count": null,
   "metadata": {},
   "outputs": [],
   "source": [
    "# Construct a k-means clustering model class object.\n",
    "# Use 3 as the initial number of clusters.\n",
    "\n",
    "# Use fresh products and milk products only for the initial training data.\n",
    "\n",
    "# Fit the training data to the clustering object.\n",
    "\n",
    "# Predict the cluster labels based on the training data."
   ]
  },
  {
   "cell_type": "markdown",
   "metadata": {},
   "source": [
    "# Attach cluster labels to the original dataset"
   ]
  },
  {
   "cell_type": "code",
   "execution_count": null,
   "metadata": {},
   "outputs": [],
   "source": [
    "# Append the cluster labels to a new column in the original dataset.\n",
    "\n",
    "# Show a preview of rows in the dataset with cluster labels added."
   ]
  },
  {
   "cell_type": "markdown",
   "metadata": {},
   "source": [
    "# Show clusters of customers based on fresh products and milk products sales"
   ]
  },
  {
   "cell_type": "code",
   "execution_count": null,
   "metadata": {},
   "outputs": [],
   "source": [
    "# Use Matplotlib to create a scatter plot of customer data.\n",
    "# Use fresh products as the x-axis and milk products as the y-axis.\n",
    "# Distinguish clusters by color."
   ]
  },
  {
   "cell_type": "markdown",
   "metadata": {},
   "source": [
    "# Use the elbow method to determine the optimal number of clusters"
   ]
  },
  {
   "cell_type": "code",
   "execution_count": null,
   "metadata": {},
   "outputs": [],
   "source": [
    "# Set new DataFrame 'X' equal to the full dataset (all features).\n",
    "\n",
    "# Use Yellowbrick to generate the elbow plot for 1 to 10 clusters on the full training data."
   ]
  },
  {
   "cell_type": "markdown",
   "metadata": {},
   "source": [
    "# Use silhouette analysis to determine the optimal number of clusters"
   ]
  },
  {
   "cell_type": "code",
   "execution_count": null,
   "metadata": {},
   "outputs": [],
   "source": [
    "# Create several k-means models and generate the silhouette scores for each.\n",
    "# Create the models using a range of 2 to 5 clusters.\n",
    "\n",
    "# Note the high score."
   ]
  },
  {
   "cell_type": "markdown",
   "metadata": {},
   "source": [
    "# Generate and preview cluster labels using the full dataset"
   ]
  },
  {
   "cell_type": "code",
   "execution_count": null,
   "metadata": {},
   "outputs": [],
   "source": [
    "# Construct a k-means clustering model class object and fit the full training data to it.\n",
    "# Use your judgment to determine the desired number of clusters.\n",
    "\n",
    "# Predict the cluster labels based on the full training data, then append the labels to the dataset.\n",
    "\n",
    "# Show the first 20 rows in the dataset with cluster labels added."
   ]
  }
 ],
 "metadata": {
  "kernelspec": {
   "display_name": "Python 3",
   "language": "python",
   "name": "python3"
  },
  "language_info": {
   "codemirror_mode": {
    "name": "ipython",
    "version": 3
   },
   "file_extension": ".py",
   "mimetype": "text/x-python",
   "name": "python",
   "nbconvert_exporter": "python",
   "pygments_lexer": "ipython3",
   "version": "3.7.3"
  }
 },
 "nbformat": 4,
 "nbformat_minor": 2
}
